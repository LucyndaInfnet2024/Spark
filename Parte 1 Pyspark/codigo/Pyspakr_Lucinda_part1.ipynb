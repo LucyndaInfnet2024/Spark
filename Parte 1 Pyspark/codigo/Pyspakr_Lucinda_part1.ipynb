{
  "nbformat": 4,
  "nbformat_minor": 0,
  "metadata": {
    "colab": {
      "provenance": []
    },
    "kernelspec": {
      "name": "python3",
      "display_name": "Python 3"
    },
    "language_info": {
      "name": "python"
    }
  },
  "cells": [
    {
      "cell_type": "code",
      "execution_count": 1,
      "metadata": {
        "colab": {
          "base_uri": "https://localhost:8080/"
        },
        "id": "HNH9rCfuemjO",
        "outputId": "6f49378d-c5a9-4f29-f06e-4c15980bd3d7"
      },
      "outputs": [
        {
          "output_type": "stream",
          "name": "stdout",
          "text": [
            "Requirement already satisfied: pyspark in /usr/local/lib/python3.10/dist-packages (3.5.2)\n",
            "Requirement already satisfied: py4j==0.10.9.7 in /usr/local/lib/python3.10/dist-packages (from pyspark) (0.10.9.7)\n"
          ]
        }
      ],
      "source": [
        "pip install pyspark"
      ]
    },
    {
      "cell_type": "code",
      "source": [
        "from pyspark.sql import SparkSession\n",
        "from pyspark.sql import functions as F"
      ],
      "metadata": {
        "id": "zjvzpdFBfLyk"
      },
      "execution_count": 2,
      "outputs": []
    },
    {
      "cell_type": "code",
      "source": [
        "spark = SparkSession.builder.appName('ecommerce').getOrCreate()"
      ],
      "metadata": {
        "id": "YFFJEfvqjPks"
      },
      "execution_count": 3,
      "outputs": []
    },
    {
      "cell_type": "code",
      "source": [
        "df_customers = spark.read.csv('/content/df_Customers.csv', header=True, inferSchema=True)"
      ],
      "metadata": {
        "id": "QoSuuxmEl7wl"
      },
      "execution_count": 4,
      "outputs": []
    },
    {
      "cell_type": "code",
      "source": [
        "df_customers.printSchema()"
      ],
      "metadata": {
        "colab": {
          "base_uri": "https://localhost:8080/"
        },
        "id": "JvHtDHj5mIlx",
        "outputId": "ee54f802-8263-4b62-bcb3-bf028ab5d5c3"
      },
      "execution_count": 5,
      "outputs": [
        {
          "output_type": "stream",
          "name": "stdout",
          "text": [
            "root\n",
            " |-- customer_id: string (nullable = true)\n",
            " |-- customer_zip_code_prefix: integer (nullable = true)\n",
            " |-- customer_city: string (nullable = true)\n",
            " |-- customer_state: string (nullable = true)\n",
            "\n"
          ]
        }
      ]
    },
    {
      "cell_type": "code",
      "source": [
        "df_orders = spark.read.csv('/content/df_Orders.csv', header=True, inferSchema=True)"
      ],
      "metadata": {
        "id": "pHahfeOYmO1Y"
      },
      "execution_count": 6,
      "outputs": []
    },
    {
      "cell_type": "code",
      "source": [
        "df_orders.printSchema()"
      ],
      "metadata": {
        "colab": {
          "base_uri": "https://localhost:8080/"
        },
        "id": "0qTfC-sFmT7B",
        "outputId": "debc1ff5-a27e-49b8-e0d1-84839cf89f46"
      },
      "execution_count": 7,
      "outputs": [
        {
          "output_type": "stream",
          "name": "stdout",
          "text": [
            "root\n",
            " |-- order_id: string (nullable = true)\n",
            " |-- customer_id: string (nullable = true)\n",
            " |-- order_status: string (nullable = true)\n",
            " |-- order_purchase_timestamp: timestamp (nullable = true)\n",
            " |-- order_approved_at: timestamp (nullable = true)\n",
            " |-- order_delivered_timestamp: timestamp (nullable = true)\n",
            " |-- order_estimated_delivery_date: date (nullable = true)\n",
            "\n"
          ]
        }
      ]
    },
    {
      "cell_type": "code",
      "source": [
        "df_products = spark.read.csv('/content/df_Products.csv', header=True, inferSchema=True)"
      ],
      "metadata": {
        "id": "NnRmTt92mWfU"
      },
      "execution_count": 8,
      "outputs": []
    },
    {
      "cell_type": "code",
      "source": [
        "df_products.printSchema()"
      ],
      "metadata": {
        "colab": {
          "base_uri": "https://localhost:8080/"
        },
        "id": "gCZa_AY8mZlJ",
        "outputId": "8a201c34-ca5e-4c06-f836-3b517e025471"
      },
      "execution_count": 9,
      "outputs": [
        {
          "output_type": "stream",
          "name": "stdout",
          "text": [
            "root\n",
            " |-- product_id: string (nullable = true)\n",
            " |-- product_category_name: string (nullable = true)\n",
            " |-- product_weight_g: double (nullable = true)\n",
            " |-- product_length_cm: double (nullable = true)\n",
            " |-- product_height_cm: double (nullable = true)\n",
            " |-- product_width_cm: double (nullable = true)\n",
            "\n"
          ]
        }
      ]
    },
    {
      "cell_type": "code",
      "source": [
        "df_payments = spark.read.csv('/content/df_Payments.csv', header=True, inferSchema=True)"
      ],
      "metadata": {
        "id": "x6LolnEZma7g"
      },
      "execution_count": 10,
      "outputs": []
    },
    {
      "cell_type": "code",
      "source": [
        "df_payments.printSchema()"
      ],
      "metadata": {
        "colab": {
          "base_uri": "https://localhost:8080/"
        },
        "id": "6yJkOXZime_F",
        "outputId": "b3f47ae5-6334-4341-cfb8-a4610e9c4704"
      },
      "execution_count": 11,
      "outputs": [
        {
          "output_type": "stream",
          "name": "stdout",
          "text": [
            "root\n",
            " |-- order_id: string (nullable = true)\n",
            " |-- payment_sequential: integer (nullable = true)\n",
            " |-- payment_type: string (nullable = true)\n",
            " |-- payment_installments: integer (nullable = true)\n",
            " |-- payment_value: double (nullable = true)\n",
            "\n"
          ]
        }
      ]
    },
    {
      "cell_type": "code",
      "source": [
        "df_orderitems = spark.read.csv('/content/df_OrderItems.csv', header=True, inferSchema=True)"
      ],
      "metadata": {
        "id": "_dy6IG_Wmgds"
      },
      "execution_count": 12,
      "outputs": []
    },
    {
      "cell_type": "code",
      "source": [
        "df_orderitems.printSchema()"
      ],
      "metadata": {
        "colab": {
          "base_uri": "https://localhost:8080/"
        },
        "id": "zapmoooZmjx_",
        "outputId": "7c2e5929-7051-4a25-e084-5c4dfdf2d240"
      },
      "execution_count": 13,
      "outputs": [
        {
          "output_type": "stream",
          "name": "stdout",
          "text": [
            "root\n",
            " |-- order_id: string (nullable = true)\n",
            " |-- product_id: string (nullable = true)\n",
            " |-- seller_id: string (nullable = true)\n",
            " |-- price: double (nullable = true)\n",
            " |-- shipping_charges: double (nullable = true)\n",
            "\n"
          ]
        }
      ]
    },
    {
      "cell_type": "markdown",
      "source": [
        "# 1 - Qual é o valor total de vendas por estado?"
      ],
      "metadata": {
        "id": "HuRrdU2ms4NV"
      }
    },
    {
      "cell_type": "code",
      "source": [
        "df_valor_vendas_uf = df_orders.join(df_orderitems, df_orders.order_id == df_orderitems.order_id).join(df_customers, df_orders.customer_id == df_customers.customer_id)\n",
        "\n",
        "df_valor_vendas_uf = df_valor_vendas_uf.groupBy(\"customer_state\").agg((F.sum(df_orderitems.price + df_orderitems.shipping_charges)).alias(\"total_sales\")).orderBy(F.desc(\"total_sales\"))\n",
        "\n",
        "df_valor_vendas_uf.show()"
      ],
      "metadata": {
        "colab": {
          "base_uri": "https://localhost:8080/"
        },
        "id": "pqxpHZmpocAF",
        "outputId": "818b1005-1f88-4b47-8deb-53f1c0cdb173"
      },
      "execution_count": 14,
      "outputs": [
        {
          "output_type": "stream",
          "name": "stdout",
          "text": [
            "+--------------+--------------------+\n",
            "|customer_state|         total_sales|\n",
            "+--------------+--------------------+\n",
            "|            SP|1.4586002190000033E7|\n",
            "|            RJ|   4347299.469999973|\n",
            "|            MG|  3972702.5099999947|\n",
            "|            RS|  1884154.7600000007|\n",
            "|            PR|  1807890.2500000023|\n",
            "|            SC|  1210286.6000000022|\n",
            "|            BA|  1204627.9900000007|\n",
            "|            GO|           768086.19|\n",
            "|            ES|   695583.5900000005|\n",
            "|            DF|   641402.1700000003|\n",
            "|            PE|   613616.6499999991|\n",
            "|            CE|  466328.37000000034|\n",
            "|            PA|            343767.5|\n",
            "|            MT|   321673.9700000002|\n",
            "|            MA|  243749.88000000012|\n",
            "|            MS|  240606.81999999995|\n",
            "|            PB|  201391.18000000005|\n",
            "|            RN|  154890.03000000003|\n",
            "|            PI|  140538.71999999997|\n",
            "|            SE|  119347.12000000008|\n",
            "+--------------+--------------------+\n",
            "only showing top 20 rows\n",
            "\n"
          ]
        }
      ]
    },
    {
      "cell_type": "markdown",
      "source": [
        "# 2 - Quais são os 10 produtos mais vendidos em termos de quantidade?"
      ],
      "metadata": {
        "id": "tN1-nKgFv3ur"
      }
    },
    {
      "cell_type": "code",
      "source": [
        "df_top10 = df_orderitems.join(df_products, df_orderitems.product_id == df_products.product_id).select(df_orderitems[\"product_id\"], df_products[\"product_category_name\"], df_orderitems[\"order_id\"])\n",
        "\n",
        "df_top10 = df_top10.groupBy(\"product_id\",\"product_category_name\").agg(F.count(\"order_id\").alias(\"quantity_sold\")).orderBy(F.desc(\"quantity_sold\")).limit(10)\n",
        "\n",
        "df_top10.show()\n"
      ],
      "metadata": {
        "colab": {
          "base_uri": "https://localhost:8080/"
        },
        "id": "AoIhusQOv9Yy",
        "outputId": "cbe9738d-223a-4335-9d8f-650873b807e9"
      },
      "execution_count": 22,
      "outputs": [
        {
          "output_type": "stream",
          "name": "stdout",
          "text": [
            "+------------+---------------------+-------------+\n",
            "|  product_id|product_category_name|quantity_sold|\n",
            "+------------+---------------------+-------------+\n",
            "|0vbEvli2JYJu|                 toys|       164025|\n",
            "|UgkSjxoiV9Ev|                 toys|       146689|\n",
            "|9NwzO0Pm0fDM|                 toys|       146689|\n",
            "|SLTlrWtcYt1m|                 toys|       103041|\n",
            "|Biwi1BNtUB7l|                 toys|        87025|\n",
            "|ro08JPncYzLh|         garden_tools|        84100|\n",
            "|1edaUIVffPFF|        watches_gifts|        65025|\n",
            "|sCONCvmO1cEY| computers_accesso...|        58564|\n",
            "|dAz11YkQkoue|        health_beauty|        51529|\n",
            "|Ffe8gTdmyO3U|                 toys|        43681|\n",
            "+------------+---------------------+-------------+\n",
            "\n"
          ]
        }
      ]
    },
    {
      "cell_type": "markdown",
      "source": [
        "# 3 - Qual é o tempo médio entre a data de compra e a data de entrega para cada status de pedido?"
      ],
      "metadata": {
        "id": "EYNdc3TIEkya"
      }
    },
    {
      "cell_type": "code",
      "source": [
        "# Filtrar as ordens onde order_delivered_timestamp não é nulo\n",
        "df_tempo_entrega = df_orders.filter(df_orders.order_delivered_timestamp.isNotNull())\n",
        "\n",
        "# Calcular a média do tempo de entrega e agrupar por order_status\n",
        "df_tempo_entrega = df_tempo_entrega \\\n",
        "    .groupBy(\"order_status\") \\\n",
        "    .agg(F.avg(F.datediff(df_orders.order_delivered_timestamp, df_orders.order_purchase_timestamp)).alias(\"avg_delivery_time\")) \\\n",
        "    .orderBy(F.asc(\"avg_delivery_time\"))\n",
        "\n",
        "# Exibir o resultado\n",
        "df_tempo_entrega.show()\n"
      ],
      "metadata": {
        "colab": {
          "base_uri": "https://localhost:8080/"
        },
        "id": "tiVPQ4oQEoYV",
        "outputId": "114e9778-eceb-4203-995a-664b5f9923c1"
      },
      "execution_count": 26,
      "outputs": [
        {
          "output_type": "stream",
          "name": "stdout",
          "text": [
            "+------------+------------------+\n",
            "|order_status| avg_delivery_time|\n",
            "+------------+------------------+\n",
            "|   delivered|12.372297590995402|\n",
            "|    canceled|              17.2|\n",
            "+------------+------------------+\n",
            "\n"
          ]
        }
      ]
    },
    {
      "cell_type": "markdown",
      "source": [
        "# 4 - Qual foi o método de pagamento mais utilizado para pedidos acima de R$ 1000,00?"
      ],
      "metadata": {
        "id": "3ndGIzp7GL8u"
      }
    },
    {
      "cell_type": "code",
      "source": [
        "# Realizar os joins entre payments, orders e order_items\n",
        "df_forma_pagto = df_payments \\\n",
        "    .join(df_orders, df_payments.order_id == df_orders.order_id) \\\n",
        "    .join(df_orderitems, df_orders.order_id == df_orderitems.order_id)\n",
        "\n",
        "# Agrupar por payment_type, contar o número de pedidos e aplicar o filtro do HAVING\n",
        "df_forma_pagto = df_forma_pagto \\\n",
        "    .groupBy(\"payment_type\") \\\n",
        "    .agg(\n",
        "        F.count(df_payments.order_id).alias(\"num_orders\"),\n",
        "        F.sum(df_orderitems.price + df_orderitems.shipping_charges).alias(\"total_sales\")\n",
        "    ) \\\n",
        "    .filter(F.col(\"total_sales\") > 1000) \\\n",
        "    .orderBy(F.desc(\"num_orders\"))\n",
        "\n",
        "# Exibir o resultado\n",
        "df_forma_pagto.show()\n"
      ],
      "metadata": {
        "colab": {
          "base_uri": "https://localhost:8080/"
        },
        "id": "HUYrje4rGQUW",
        "outputId": "e49171a9-8948-4656-abd4-3a7e283ed676"
      },
      "execution_count": 25,
      "outputs": [
        {
          "output_type": "stream",
          "name": "stdout",
          "text": [
            "+------------+----------+-------------------+\n",
            "|payment_type|num_orders|        total_sales|\n",
            "+------------+----------+-------------------+\n",
            "| credit_card|     65814|2.503643150999996E7|\n",
            "|      wallet|     17302|  6956812.949999956|\n",
            "|     voucher|      4911| 1934790.4499999983|\n",
            "|  debit_card|      1289|  475037.1500000002|\n",
            "+------------+----------+-------------------+\n",
            "\n"
          ]
        }
      ]
    },
    {
      "cell_type": "markdown",
      "source": [
        "# 5 - Quantos clientes únicos realizaram pedidos em cada mês do ano?"
      ],
      "metadata": {
        "id": "5W9cquI_IzN8"
      }
    },
    {
      "cell_type": "code",
      "source": [
        "# Agrupar por ano e mês da data de compra e contar clientes distintos\n",
        "df_qtd_clientes_uniq = df_orders \\\n",
        "    .groupBy(F.year(\"order_purchase_timestamp\").alias(\"year\"),\n",
        "             F.month(\"order_purchase_timestamp\").alias(\"month\")) \\\n",
        "    .agg(F.countDistinct(\"customer_id\").alias(\"unique_customers\")) \\\n",
        "    .orderBy(\"year\", \"month\")\n",
        "\n",
        "# Exibir o resultado\n",
        "df_qtd_clientes_uniq.show()\n"
      ],
      "metadata": {
        "colab": {
          "base_uri": "https://localhost:8080/"
        },
        "id": "g0hlrCk0I4h5",
        "outputId": "64842d76-fbf2-417a-c90b-4905f38f01af"
      },
      "execution_count": 24,
      "outputs": [
        {
          "output_type": "stream",
          "name": "stdout",
          "text": [
            "+----+-----+----------------+\n",
            "|year|month|unique_customers|\n",
            "+----+-----+----------------+\n",
            "|2016|    9|               3|\n",
            "|2016|   10|             289|\n",
            "|2016|   12|               1|\n",
            "|2017|    1|             857|\n",
            "|2017|    2|            1534|\n",
            "|2017|    3|            2392|\n",
            "|2017|    4|            2156|\n",
            "|2017|    5|            3407|\n",
            "|2017|    6|            2953|\n",
            "|2017|    7|            3781|\n",
            "|2017|    8|            4028|\n",
            "|2017|    9|            3937|\n",
            "|2017|   10|            4258|\n",
            "|2017|   11|            6840|\n",
            "|2017|   12|            4981|\n",
            "|2018|    1|            6463|\n",
            "|2018|    2|            6069|\n",
            "|2018|    3|            6508|\n",
            "|2018|    4|            6200|\n",
            "|2018|    5|            6163|\n",
            "+----+-----+----------------+\n",
            "only showing top 20 rows\n",
            "\n"
          ]
        }
      ]
    }
  ]
}