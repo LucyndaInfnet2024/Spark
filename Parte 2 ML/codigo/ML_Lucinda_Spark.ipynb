{
  "nbformat": 4,
  "nbformat_minor": 0,
  "metadata": {
    "colab": {
      "provenance": []
    },
    "kernelspec": {
      "name": "python3",
      "display_name": "Python 3"
    },
    "language_info": {
      "name": "python"
    }
  },
  "cells": [
    {
      "cell_type": "code",
      "execution_count": 1,
      "metadata": {
        "colab": {
          "base_uri": "https://localhost:8080/"
        },
        "id": "yLHUW94becW-",
        "outputId": "472f7422-8f53-4ba0-b6b3-5a22b350f1f0"
      },
      "outputs": [
        {
          "output_type": "stream",
          "name": "stdout",
          "text": [
            "Collecting pyspark\n",
            "  Downloading pyspark-3.5.3.tar.gz (317.3 MB)\n",
            "\u001b[2K     \u001b[90m━━━━━━━━━━━━━━━━━━━━━━━━━━━━━━━━━━━━━━━━\u001b[0m \u001b[32m317.3/317.3 MB\u001b[0m \u001b[31m3.9 MB/s\u001b[0m eta \u001b[36m0:00:00\u001b[0m\n",
            "\u001b[?25h  Preparing metadata (setup.py) ... \u001b[?25l\u001b[?25hdone\n",
            "Requirement already satisfied: py4j==0.10.9.7 in /usr/local/lib/python3.10/dist-packages (from pyspark) (0.10.9.7)\n",
            "Building wheels for collected packages: pyspark\n",
            "  Building wheel for pyspark (setup.py) ... \u001b[?25l\u001b[?25hdone\n",
            "  Created wheel for pyspark: filename=pyspark-3.5.3-py2.py3-none-any.whl size=317840625 sha256=3e581bb4e2523632283165278be4b8f552722644df31edd92c464f830fbc2627\n",
            "  Stored in directory: /root/.cache/pip/wheels/1b/3a/92/28b93e2fbfdbb07509ca4d6f50c5e407f48dce4ddbda69a4ab\n",
            "Successfully built pyspark\n",
            "Installing collected packages: pyspark\n",
            "Successfully installed pyspark-3.5.3\n"
          ]
        }
      ],
      "source": [
        "pip install pyspark"
      ]
    },
    {
      "cell_type": "code",
      "source": [
        "from pyspark.sql import SparkSession, Row\n",
        "from pyspark.sql.functions import col, when\n",
        "from pyspark.ml.feature import VectorAssembler\n",
        "from pyspark.ml.regression import LinearRegression\n",
        "from pyspark.ml.evaluation import RegressionEvaluator\n",
        "from pyspark.ml.tuning import CrossValidator, ParamGridBuilder\n",
        "from pyspark.ml.linalg import Vectors"
      ],
      "metadata": {
        "id": "1dDkNmzferXe"
      },
      "execution_count": 28,
      "outputs": []
    },
    {
      "cell_type": "code",
      "source": [
        "# Iniciar a Spark session\n",
        "spark = SparkSession.builder.appName(\"HouseRentAnalysis\").getOrCreate()"
      ],
      "metadata": {
        "id": "sdcNKqeCkyxA"
      },
      "execution_count": 3,
      "outputs": []
    },
    {
      "cell_type": "code",
      "source": [
        "# Carregar os dados no Spark DataFrame\n",
        "df = spark.read.csv('/content/houses_to_rent_v2.csv', header=True, inferSchema=True)"
      ],
      "metadata": {
        "id": "OMLT9Foyk5vQ"
      },
      "execution_count": 4,
      "outputs": []
    },
    {
      "cell_type": "code",
      "source": [
        "# Verificar o schema dos dados\n",
        "df.printSchema()"
      ],
      "metadata": {
        "colab": {
          "base_uri": "https://localhost:8080/"
        },
        "id": "yE3eC8jBk8pr",
        "outputId": "397f7513-05f5-4f9a-89f4-3e2a55e85788"
      },
      "execution_count": 5,
      "outputs": [
        {
          "output_type": "stream",
          "name": "stdout",
          "text": [
            "root\n",
            " |-- city: string (nullable = true)\n",
            " |-- area: integer (nullable = true)\n",
            " |-- rooms: integer (nullable = true)\n",
            " |-- bathroom: integer (nullable = true)\n",
            " |-- parking spaces: integer (nullable = true)\n",
            " |-- floor: string (nullable = true)\n",
            " |-- animal: string (nullable = true)\n",
            " |-- furniture: string (nullable = true)\n",
            " |-- hoa (R$): integer (nullable = true)\n",
            " |-- rent amount (R$): integer (nullable = true)\n",
            " |-- property tax (R$): integer (nullable = true)\n",
            " |-- fire insurance (R$): integer (nullable = true)\n",
            " |-- total (R$): integer (nullable = true)\n",
            "\n"
          ]
        }
      ]
    },
    {
      "cell_type": "code",
      "source": [
        "# Remover duplicatas com base em colunas específicas\n",
        "df = df.dropDuplicates(subset=['area', 'rooms', 'bathroom', 'parking spaces', 'hoa (R$)','rent amount (R$)', 'property tax (R$)', 'fire insurance (R$)', 'total (R$)'])"
      ],
      "metadata": {
        "id": "SCG3Pgd3lBlp"
      },
      "execution_count": 6,
      "outputs": []
    },
    {
      "cell_type": "code",
      "source": [
        "# Filtrar linhas com 'hoa (R$)' <= 1.5 * 'rent amount (R$)'\n",
        "df = df.filter(df['hoa (R$)'] <= 1.5 * df['rent amount (R$)'])"
      ],
      "metadata": {
        "id": "VtMuq-rElFAk"
      },
      "execution_count": 7,
      "outputs": []
    },
    {
      "cell_type": "code",
      "source": [
        "# Tratar a coluna 'floor' e converter valores '-' para 0 e o restante para int\n",
        "df = df.withColumn('floor', when(col('floor') == '-', 0).otherwise(col('floor').cast('int')))"
      ],
      "metadata": {
        "id": "Ja_cftwWlF91"
      },
      "execution_count": 8,
      "outputs": []
    },
    {
      "cell_type": "code",
      "source": [
        "# Converter variáveis categóricas para valores numéricos\n",
        "df = df.withColumn('animal', when(col('animal') == 'acept', 1).otherwise(0))\n",
        "df = df.withColumn('furniture', when(col('furniture') == 'furnished', 1).otherwise(0))"
      ],
      "metadata": {
        "id": "7mwTEFYolInx"
      },
      "execution_count": 9,
      "outputs": []
    },
    {
      "cell_type": "code",
      "source": [
        "# Filtrar apenas pela cidade de São Paulo\n",
        "df = df.filter(df['city'] == 'São Paulo')"
      ],
      "metadata": {
        "id": "zgSvjpu2lKMs"
      },
      "execution_count": 10,
      "outputs": []
    },
    {
      "cell_type": "code",
      "source": [
        "# Remover a coluna 'city'\n",
        "df = df.drop('city')"
      ],
      "metadata": {
        "id": "Mk2zHQOSlLl2"
      },
      "execution_count": 11,
      "outputs": []
    },
    {
      "cell_type": "code",
      "source": [
        "# Definir as variáveis independentes (features) e a variável dependente (label)\n",
        "feature_cols = ['area', 'rooms', 'bathroom', 'parking spaces', 'hoa (R$)','property tax (R$)', 'fire insurance (R$)', 'furniture', 'animal']"
      ],
      "metadata": {
        "id": "NNTsMrT_lNrC"
      },
      "execution_count": 12,
      "outputs": []
    },
    {
      "cell_type": "code",
      "source": [
        "# Criar o assembler para combinar as colunas de características em um vetor\n",
        "assembler = VectorAssembler(inputCols=feature_cols, outputCol=\"features\")"
      ],
      "metadata": {
        "id": "lYmFvA0-lRFZ"
      },
      "execution_count": 13,
      "outputs": []
    },
    {
      "cell_type": "code",
      "source": [
        "# Transformar o dataframe com o assembler\n",
        "df = assembler.transform(df)"
      ],
      "metadata": {
        "id": "Lf-8evsNlS9_"
      },
      "execution_count": 14,
      "outputs": []
    },
    {
      "cell_type": "code",
      "source": [
        "# Selecionar as colunas de interesse (features e label)\n",
        "df = df.select(col(\"features\"), col(\"rent amount (R$)\").alias(\"label\"))"
      ],
      "metadata": {
        "id": "Bu6UE3rUlUzL"
      },
      "execution_count": 15,
      "outputs": []
    },
    {
      "cell_type": "code",
      "source": [
        "# Dividir os dados em conjunto de treino (80%) e teste (20%)\n",
        "train_df, test_df = df.randomSplit([0.8, 0.2], seed=42)"
      ],
      "metadata": {
        "id": "VbvTU-u5lWHB"
      },
      "execution_count": 16,
      "outputs": []
    },
    {
      "cell_type": "code",
      "source": [
        "# Inicializar o modelo de Regressão Linear\n",
        "lr = LinearRegression(featuresCol='features', labelCol='label')"
      ],
      "metadata": {
        "id": "RRudG2AilXbt"
      },
      "execution_count": 17,
      "outputs": []
    },
    {
      "cell_type": "code",
      "source": [
        "# Treinar o modelo nos dados de treino\n",
        "lr_model = lr.fit(train_df)"
      ],
      "metadata": {
        "id": "7dtAG00jlZ95"
      },
      "execution_count": 18,
      "outputs": []
    },
    {
      "cell_type": "code",
      "source": [
        "# Avaliar o modelo nos dados de teste\n",
        "predictions = lr_model.transform(test_df)"
      ],
      "metadata": {
        "id": "s05JI9dIlbLF"
      },
      "execution_count": 19,
      "outputs": []
    },
    {
      "cell_type": "code",
      "source": [
        "# Exibir sumário do modelo\n",
        "print(f\"Coeficientes: {lr_model.coefficients}\")\n",
        "print(f\"Intercepto: {lr_model.intercept}\")"
      ],
      "metadata": {
        "colab": {
          "base_uri": "https://localhost:8080/"
        },
        "id": "Wno2ip5olbqD",
        "outputId": "e7acaf70-4b58-46c3-f330-ad9ea203e198"
      },
      "execution_count": 20,
      "outputs": [
        {
          "output_type": "stream",
          "name": "stdout",
          "text": [
            "Coeficientes: [-0.049386822694035964,-59.29291238797612,-21.209105157080227,-49.23718918090523,0.28752651799766477,-0.0012488179920979044,71.23857776045958,119.41910303113252,-8.932901933863656]\n",
            "Intercepto: 178.24994500588377\n"
          ]
        }
      ]
    },
    {
      "cell_type": "code",
      "source": [
        "# Avaliar o desempenho com métricas de regressão\n",
        "evaluator = RegressionEvaluator(labelCol=\"label\", predictionCol=\"prediction\", metricName=\"r2\")\n",
        "r2 = evaluator.evaluate(predictions)\n",
        "print(f\"R²: {r2}\")"
      ],
      "metadata": {
        "colab": {
          "base_uri": "https://localhost:8080/"
        },
        "id": "li3ruVbAlc4E",
        "outputId": "402751ae-83cd-484f-8d87-d7582b5247e6"
      },
      "execution_count": 21,
      "outputs": [
        {
          "output_type": "stream",
          "name": "stdout",
          "text": [
            "R²: 0.9899588383222807\n"
          ]
        }
      ]
    },
    {
      "cell_type": "code",
      "source": [
        "#Calcular o RMSE (Root Mean Squared Error)\n",
        "rmse_evaluator = RegressionEvaluator(labelCol=\"label\", predictionCol=\"prediction\", metricName=\"rmse\")\n",
        "rmse = rmse_evaluator.evaluate(predictions)\n",
        "print(f\"RMSE: {rmse}\")"
      ],
      "metadata": {
        "colab": {
          "base_uri": "https://localhost:8080/"
        },
        "id": "HibNoRAmleFi",
        "outputId": "4f939e74-31c0-4ca2-ff24-73f3f12948d6"
      },
      "execution_count": 22,
      "outputs": [
        {
          "output_type": "stream",
          "name": "stdout",
          "text": [
            "RMSE: 355.5815061505836\n"
          ]
        }
      ]
    },
    {
      "cell_type": "code",
      "source": [
        "#Validação cruzada com 5 folds\n",
        "paramGrid = ParamGridBuilder().build()\n",
        "crossval = CrossValidator(estimator=lr,\n",
        "                          estimatorParamMaps=paramGrid,\n",
        "                          evaluator=evaluator,\n",
        "                          numFolds=5)"
      ],
      "metadata": {
        "id": "mPhy3rTqlfcX"
      },
      "execution_count": 23,
      "outputs": []
    },
    {
      "cell_type": "code",
      "source": [
        "#Ajustar o modelo usando validação cruzada\n",
        "cv_model = crossval.fit(train_df)"
      ],
      "metadata": {
        "id": "fRSdrIhRlgqy"
      },
      "execution_count": 24,
      "outputs": []
    },
    {
      "cell_type": "code",
      "source": [
        "#Avaliar o modelo de validação cruzada nos dados de teste\n",
        "cv_predictions = cv_model.transform(test_df)\n",
        "r2_cv = evaluator.evaluate(cv_predictions)\n",
        "rmse_cv = rmse_evaluator.evaluate(cv_predictions)"
      ],
      "metadata": {
        "id": "SDEtm7sYliDB"
      },
      "execution_count": 25,
      "outputs": []
    },
    {
      "cell_type": "code",
      "source": [
        "print(f\"R² com Validação Cruzada: {r2_cv}\")\n",
        "print(f\"RMSE com Validação Cruzada: {rmse_cv}\")"
      ],
      "metadata": {
        "colab": {
          "base_uri": "https://localhost:8080/"
        },
        "id": "khbGCiMKk09v",
        "outputId": "955e5120-7f09-416d-e041-7d8f4875defa"
      },
      "execution_count": 26,
      "outputs": [
        {
          "output_type": "stream",
          "name": "stdout",
          "text": [
            "R² com Validação Cruzada: 0.9899588383222807\n",
            "RMSE com Validação Cruzada: 355.5815061505836\n"
          ]
        }
      ]
    },
    {
      "cell_type": "code",
      "source": [
        "#Simulação de um novo imóvel com as mesmas características\n",
        "new_data = Row(area=200, rooms=4, bathroom=3, parking_spaces=3,\n",
        "               hoa_R=2400, property_tax_R=0, fire_insurance_R=82,\n",
        "               furniture=0, animal=0)\n",
        "\n",
        "#Converter o novo imóvel para um DataFrame do Spark\n",
        "new_df = spark.createDataFrame([new_data])\n",
        "\n",
        "#Criar um VectorAssembler para as novas entradas (com as mesmas colunas usadas no treinamento)\n",
        "assembler = VectorAssembler(inputCols=['area', 'rooms', 'bathroom', 'parking_spaces',\n",
        "                                       'hoa_R', 'property_tax_R', 'fire_insurance_R',\n",
        "                                       'furniture', 'animal'], outputCol='features')\n",
        "\n",
        "#Transformar os dados de entrada para o formato correto\n",
        "new_df = assembler.transform(new_df)\n",
        "\n",
        "#Fazer a previsão usando o modelo treinado\n",
        "new_predictions = lr_model.transform(new_df)\n",
        "\n",
        "#Exibir o valor previsto\n",
        "predicted_total_rent = new_predictions.select(\"prediction\").collect()[0][0]\n",
        "print(f\"Valor previsto do aluguel total: R$ {predicted_total_rent:,.2f}\")"
      ],
      "metadata": {
        "colab": {
          "base_uri": "https://localhost:8080/"
        },
        "id": "y6V_nsuLncJE",
        "outputId": "8c53baf7-88aa-435e-c441-77366349bcba"
      },
      "execution_count": 29,
      "outputs": [
        {
          "output_type": "stream",
          "name": "stdout",
          "text": [
            "Valor previsto do aluguel total: R$ 6,251.49\n"
          ]
        }
      ]
    },
    {
      "cell_type": "code",
      "source": [
        "#Consulta no dataset utilizando os mesmos valores para simulacao\n",
        "df.filter(\n",
        "    (col('area') == 200) &\n",
        "    (col('rooms') == 4) &\n",
        "    (col('bathroom') == 3) &\n",
        "    (col('parking spaces') == 3) &\n",
        "    (col('hoa (R$)') == 2400) &\n",
        "    (col('property tax (R$)') == 0) &\n",
        "    (col('fire insurance (R$)') == 82) &\n",
        "    (col('furniture') == 0) &\n",
        "    (col('animal') == 0)\n",
        ").show()"
      ],
      "metadata": {
        "colab": {
          "base_uri": "https://localhost:8080/"
        },
        "id": "5n20gbSroQKt",
        "outputId": "b3ff6dc1-ae4b-4d3e-9577-f93ef64f6df7"
      },
      "execution_count": 31,
      "outputs": [
        {
          "output_type": "stream",
          "name": "stdout",
          "text": [
            "+--------------------+-----+\n",
            "|            features|label|\n",
            "+--------------------+-----+\n",
            "|[200.0,4.0,3.0,3....| 6400|\n",
            "+--------------------+-----+\n",
            "\n"
          ]
        }
      ]
    }
  ]
}